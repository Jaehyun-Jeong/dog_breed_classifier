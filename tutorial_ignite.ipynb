{
 "cells": [
  {
   "cell_type": "markdown",
   "id": "b3f1f1b0-0fe8-426e-8f15-81d93e4d64f2",
   "metadata": {
    "tags": []
   },
   "source": [
    "# 1. 클래스 별 폴더 만들기\n",
    "\n",
    "모든 클래스가 하나의 폴더에 들어있고, **labels.csv**에 각 파일의 클래스 정보가 있다. 따라서 이를 이용하여 클래스 별 폴더로 나누겠다. "
   ]
  },
  {
   "cell_type": "markdown",
   "id": "5cb81276-876f-4689-92ca-a12d4e454fce",
   "metadata": {},
   "source": [
    "## 1.1. pandas를 사용하여 csv파일 읽기"
   ]
  },
  {
   "cell_type": "code",
   "execution_count": 1,
   "id": "76cef5b7-16bd-429d-87cb-0b7d6b32baf3",
   "metadata": {},
   "outputs": [],
   "source": [
    "import pandas as pd\n",
    "labels = pd.read_csv(\"./labels.csv\")"
   ]
  },
  {
   "cell_type": "markdown",
   "id": "863a5a35-8004-4529-a3c3-c4e125e8e3a7",
   "metadata": {},
   "source": [
    "## 1.2. 각 클래스 별 폴더 만들기\n",
    "\n",
    "dataset 폴더를 만들고, 하위 폴더에 각 클래스를 저장하겠다."
   ]
  },
  {
   "cell_type": "code",
   "execution_count": 2,
   "id": "ef190372-857c-4b7d-a1a9-352b1f72a5c5",
   "metadata": {},
   "outputs": [],
   "source": [
    "import os\n",
    "\n",
    "os.makedirs(\"./dataset\", exist_ok=True)\n",
    "\n",
    "for class_name in labels['breed'].unique():\n",
    "    os.makedirs(\"./dataset/\"+class_name, exist_ok=True)  # exist_ok가 True이면 디렉토리가 이미 있는 경우는 넘어가고, 없으면 만든다."
   ]
  },
  {
   "cell_type": "markdown",
   "id": "6083ed03-20af-4716-af1a-749aac79613d",
   "metadata": {},
   "source": [
    "## 1.3. 모든 이미지 파일은 jpg 임을 확인"
   ]
  },
  {
   "cell_type": "code",
   "execution_count": 3,
   "id": "4099a57f-de97-4696-b321-d776c3d703c1",
   "metadata": {},
   "outputs": [],
   "source": [
    "for file_name in os.listdir(\"./train\"):\n",
    "    if file_name.split('.')[-1] != 'jpg':\n",
    "        print(file_name)"
   ]
  },
  {
   "cell_type": "markdown",
   "id": "35960eca-1373-4237-963e-d74b0c184e72",
   "metadata": {},
   "source": [
    "## 1.4. labels.csv에 기반하여 파일을 폴더 별로 분류"
   ]
  },
  {
   "cell_type": "code",
   "execution_count": 4,
   "id": "bcf4f23d-333a-4215-9e50-722caebebb95",
   "metadata": {},
   "outputs": [],
   "source": [
    "import shutil\n",
    "\n",
    "for idx, row in labels.iterrows():\n",
    "    file_name = row['id']\n",
    "    class_name = row['breed']\n",
    "    shutil.copy(\"./train/\"+file_name+\".jpg\", \"./dataset/\"+class_name+'/'+file_name+\".jpg\")"
   ]
  },
  {
   "cell_type": "markdown",
   "id": "be735096-d0ef-42d8-9382-3d22cd5511c9",
   "metadata": {},
   "source": [
    "## 1.5. 데이터 크리에이터 캠프에서 만든 draw_class_barplot 함수로 클래스 별 데이터 수 확인"
   ]
  },
  {
   "cell_type": "code",
   "execution_count": 5,
   "id": "6ca53b6a-54ac-4cef-9e87-6d5515a52f1b",
   "metadata": {},
   "outputs": [
    {
     "name": "stdout",
     "output_type": "stream",
     "text": [
      "전체 데이터 수: 10222\n"
     ]
    },
    {
     "data": {
      "text/plain": [
       "<Figure size 10000x10000 with 0 Axes>"
      ]
     },
     "metadata": {},
     "output_type": "display_data"
    },
    {
     "data": {
      "image/png": "[encoded data removed]",
      "text/plain": [
       "<Figure size 640x480 with 1 Axes>"
      ]
     },
     "metadata": {},
     "output_type": "display_data"
    }
   ],
   "source": [
    "import matplotlib.pyplot as plt\n",
    "\n",
    "def draw_class_barplot(\n",
    "    path: str,\n",
    "    title: str):\n",
    "    \n",
    "    dir_list = os.listdir(path)\n",
    "\n",
    "    classLenLst = []\n",
    "    for class_name in dir_list:\n",
    "        classLenLst.append(len(os.listdir(path+class_name)))\n",
    "        \n",
    "    df_dict = dict()\n",
    "    df_dict[\"name\"] = dir_list\n",
    "    df_dict[\"count\"] = classLenLst\n",
    "\n",
    "    df= pd.DataFrame(df_dict)\n",
    "\n",
    "    plt.figure(figsize=(100,100))\n",
    "    df.plot(kind=\"bar\", x='name', y='count')\n",
    "    plt.xlabel(\"class name\")\n",
    "    plt.ylabel(\"count\")\n",
    "    plt.title(title)\n",
    "    ax = plt.gca()\n",
    "\n",
    "    #hide x-axis\n",
    "    ax.get_xaxis().set_visible(False)\n",
    "\n",
    "    return df\n",
    "\n",
    "df = draw_class_barplot(\"./dataset/\", \"dataset\")\n",
    "print(f\"전체 데이터 수: {df['count'].sum(0)}\")"
   ]
  },
  {
   "cell_type": "markdown",
   "id": "e4933eb5-d155-4362-97b0-c758b31c5df3",
   "metadata": {},
   "source": [
    "# 2. train, test 데이터 나누기"
   ]
  },
  {
   "cell_type": "markdown",
   "id": "42477b97-fe4c-4ac1-9484-4afacec3432c",
   "metadata": {},
   "source": [
    "## 2.1. train_dataset, test_dataset 폴더 만들기"
   ]
  },
  {
   "cell_type": "code",
   "execution_count": 6,
   "id": "ebf2f06c-c0c1-4db0-87b6-c3ba0e89707b",
   "metadata": {},
   "outputs": [],
   "source": [
    "os.makedirs(\"./train_dataset\", exist_ok=True)\n",
    "os.makedirs(\"./test_dataset\", exist_ok=True)\n",
    "\n",
    "for class_name in labels['breed'].unique():\n",
    "    os.makedirs(\"./train_dataset/\"+class_name, exist_ok=True)  # exist_ok가 True이면 디렉토리가 이미 있는 경우는 넘어가고, 없으면 만든다.\n",
    "    os.makedirs(\"./test_dataset/\"+class_name, exist_ok=True)"
   ]
  },
  {
   "cell_type": "markdown",
   "id": "cef5bc72-f72d-480d-b70c-609d51e631d0",
   "metadata": {},
   "source": [
    "## 2.2. 데이터의 80%를 학습 20%를 test로 사용\n",
    "\n",
    "각 클래스 별로 20%의 데이터를 test 데이터로 사용"
   ]
  },
  {
   "cell_type": "code",
   "execution_count": 7,
   "id": "eba4d3b0-700a-4f00-b65e-0abd4d5a91cf",
   "metadata": {},
   "outputs": [],
   "source": [
    "TRAIN_PCT = 0.8"
   ]
  },
  {
   "cell_type": "code",
   "execution_count": 8,
   "id": "9bb5ca58-0a15-4a4e-ac00-23c0cd7f1716",
   "metadata": {
    "tags": []
   },
   "outputs": [],
   "source": [
    "class_lst = os.listdir(\"./dataset\")\n",
    "\n",
    "for label_name in class_lst:\n",
    "    file_lst = os.listdir(\"./dataset/\"+label_name)\n",
    "    for file_name in file_lst[:round(len(file_lst)*TRAIN_PCT)]:\n",
    "        shutil.copy(\"./dataset/\"+label_name+'/'+file_name, \"./train_dataset/\"+label_name+'/'+file_name)\n",
    "        \n",
    "    for file_name in file_lst[round(len(file_lst)*TRAIN_PCT):]:\n",
    "        shutil.copy(\"./dataset/\"+label_name+'/'+file_name, \"./test_dataset/\"+label_name+'/'+file_name)"
   ]
  },
  {
   "cell_type": "markdown",
   "id": "0a7106a5-4350-49bf-ac8c-21040b3b2a05",
   "metadata": {},
   "source": [
    "## 2.3. 나눠진 데이터를 확인"
   ]
  },
  {
   "cell_type": "code",
   "execution_count": 9,
   "id": "5bc46e9f-fdb6-4aa3-a1fb-1e2d550043a6",
   "metadata": {},
   "outputs": [
    {
     "name": "stdout",
     "output_type": "stream",
     "text": [
      "전체 train 데이터 수: 8185\n",
      "전체 test 데이터 수: 2037\n"
     ]
    },
    {
     "data": {
      "text/plain": [
       "<Figure size 10000x10000 with 0 Axes>"
      ]
     },
     "metadata": {},
     "output_type": "display_data"
    },
    {
     "data": {
      "image/png": "[encoded data removed]",
      "text/plain": [
       "<Figure size 640x480 with 1 Axes>"
      ]
     },
     "metadata": {},
     "output_type": "display_data"
    },
    {
     "data": {
      "text/plain": [
       "<Figure size 10000x10000 with 0 Axes>"
      ]
     },
     "metadata": {},
     "output_type": "display_data"
    },
    {
     "data": {
      "image/png": "[encoded data removed]",
      "text/plain": [
       "<Figure size 640x480 with 1 Axes>"
      ]
     },
     "metadata": {},
     "output_type": "display_data"
    }
   ],
   "source": [
    "df = draw_class_barplot(\"./train_dataset/\", \"train\")\n",
    "print(f\"전체 train 데이터 수: {df['count'].sum(0)}\")\n",
    "df = draw_class_barplot(\"./test_dataset/\", \"test\")\n",
    "print(f\"전체 test 데이터 수: {df['count'].sum(0)}\")"
   ]
  },
  {
   "cell_type": "markdown",
   "id": "01e8dc87-21d9-4ed5-bff8-b44977ae5d98",
   "metadata": {
    "tags": []
   },
   "source": [
    "# 3. PyTorch 학습 코드 작성"
   ]
  },
  {
   "cell_type": "markdown",
   "id": "c0893c29-e20f-44db-ac2d-f9dfcd6b0417",
   "metadata": {},
   "source": [
    "## <span style=\"color:blue\">*. **PyTorch Ignite 모듈 불러오기**</span>."
   ]
  },
  {
   "cell_type": "code",
   "execution_count": 1,
   "id": "e407d227-2895-485f-befb-b78644f2e3b7",
   "metadata": {},
   "outputs": [
    {
     "name": "stderr",
     "output_type": "stream",
     "text": [
      "D:\\programs\\Anaconda\\envs\\RL_module\\lib\\site-packages\\tqdm\\auto.py:22: TqdmWarning: IProgress not found. Please update jupyter and ipywidgets. See https://ipywidgets.readthedocs.io/en/stable/user_install.html\n",
      "  from .autonotebook import tqdm as notebook_tqdm\n"
     ]
    }
   ],
   "source": [
    "from ignite.engine import Engine, Events\n",
    "from ignite.metrics import RunningAverage\n",
    "from ignite.contrib.handlers.tqdm_logger import ProgressBar"
   ]
  },
  {
   "cell_type": "markdown",
   "id": "0a62cd71-1598-48a4-91c9-81ba81978556",
   "metadata": {},
   "source": [
    "## <span style=\"color:blue\">*. **Ignite Engine 클래스 만들기**</span>."
   ]
  },
  {
   "cell_type": "code",
   "execution_count": 2,
   "id": "19e97322-67f3-4f60-9c78-19f9b48475f0",
   "metadata": {},
   "outputs": [],
   "source": [
    "class MyEngine(Engine):\n",
    "    \n",
    "    def __init__(\n",
    "        self,\n",
    "        func,  # Engine Class가 필요로 하는 파라미터\n",
    "        model,\n",
    "        criterion,\n",
    "        optimizer,\n",
    "        batch_size: int,\n",
    "        num_workers: int):\n",
    "        \n",
    "        super().__init__(func)\n",
    "        \n",
    "        self.model = model\n",
    "        self.criterion = criterion\n",
    "        self.optimizer = optimizer\n",
    "        self.batch_size = batch_size\n",
    "        self.num_workers = num_workers\n",
    "        \n",
    "        self.device = next(self.model.parameters()).device"
   ]
  },
  {
   "cell_type": "markdown",
   "id": "7eecec36-3c3d-4b13-ac1e-70ac6dde1751",
   "metadata": {},
   "source": [
    "## 3.1. 이미지 전처리 리스트 작성\n",
    "\n",
    "torchvision의 transoform을 사용하여 전처리 리스트를 작성한다."
   ]
  },
  {
   "cell_type": "code",
   "execution_count": 3,
   "id": "fb3157f8-93c9-4633-9175-c87e218c1938",
   "metadata": {},
   "outputs": [],
   "source": [
    "import torchvision.transforms as transforms\n",
    "\n",
    "RESIZE = 224\n",
    "\n",
    "transformer = transforms.Compose([\n",
    "    transforms.Resize(RESIZE),\n",
    "    transforms.CenterCrop(RESIZE),\n",
    "    transforms.ToTensor(),  # ToTensor는 0 ~ 255로 이루어진 정수를 0 ~ 1의 실수로 바꿔준다.\n",
    "    transforms.Normalize(mean=(0.485, 0.456, 0.406), std=(0.229, 0.224, 0.225))\n",
    "])"
   ]
  },
  {
   "cell_type": "markdown",
   "id": "e582777d-f951-4543-874e-f6f937db438e",
   "metadata": {},
   "source": [
    "## 3.2. ImageFolder 메소드를 사용하여 dataloader 생성"
   ]
  },
  {
   "cell_type": "code",
   "execution_count": 4,
   "id": "205306bf-6d96-4b86-8ed5-13c3219f53a7",
   "metadata": {},
   "outputs": [],
   "source": [
    "# 파라미터 설정\n",
    "BATCH_SIZE = 64\n",
    "NUM_WORKERS = 0  # 이 값은 사용하는 쓰레드를 의미하므로 적절히 설정하자 (0는 main thread 사용을 의미한다)"
   ]
  },
  {
   "cell_type": "code",
   "execution_count": 5,
   "id": "c888b48e-4aaf-4e29-b56c-3d1e7fd91ac6",
   "metadata": {},
   "outputs": [],
   "source": [
    "import torch\n",
    "import torchvision\n",
    "\n",
    "train_dataset = torchvision.datasets.ImageFolder(\n",
    "    root=\"./train_dataset\",\n",
    "    transform=transformer)\n",
    "train_dataloader = torch.utils.data.DataLoader(\n",
    "    train_dataset,\n",
    "    batch_size=BATCH_SIZE,\n",
    "    shuffle=True,\n",
    "    num_workers=NUM_WORKERS)"
   ]
  },
  {
   "cell_type": "markdown",
   "id": "a7473b8a-a96a-4154-ad08-1edcd8f89e14",
   "metadata": {},
   "source": [
    "## 3.3. 모델 만들기"
   ]
  },
  {
   "cell_type": "code",
   "execution_count": 6,
   "id": "b15bfddd-119c-46c0-a02f-806d75318e0c",
   "metadata": {},
   "outputs": [
    {
     "data": {
      "text/plain": [
       "'\\ndevice = torch.device(\"cuda:0\" if torch.cuda.is_available() else \"cpu\")\\n\\nclass Model(nn.Module):\\n    def __init__(self):\\n        super().__init__()\\n        self.conv1 = nn.Conv2d(3, 6, 5)\\n        self.pool = nn.MaxPool2d(2, 2)\\n        self.conv2 = nn.Conv2d(6, 16, 5)\\n        self.fc1 = nn.Linear(self.fc_input_size(), 120)\\n        self.fc2 = nn.Linear(120, 84)\\n        self.fc3 = nn.Linear(84, 120)\\n        \\n    def forward(self, x):\\n        x = self.pool(F.relu(self.conv1(x)))\\n        x = self.pool(F.relu(self.conv2(x)))\\n        x = torch.flatten(x, 1)  # flatten all dimensions except batch\\n        x = F.relu(self.fc1(x))\\n        x = F.relu(self.fc2(x))\\n        x = self.fc3(x)\\n        return x\\n    \\n    @staticmethod\\n    def fc_input_size():\\n        return int(16*((((RESIZE-4)/2)-4)/2)**2)\\n    \\nmodel = Model().to(device)\\n'"
      ]
     },
     "execution_count": 6,
     "metadata": {},
     "output_type": "execute_result"
    }
   ],
   "source": [
    "import torch.nn as nn\n",
    "import torch.nn.functional as F\n",
    "\n",
    "# Pretrained model 불러오기\n",
    "from torchvision.models import resnet18, ResNet18_Weights\n",
    "\n",
    "device = torch.device(\"cuda:0\" if torch.cuda.is_available() else \"cpu\")\n",
    "model = resnet18(weights=ResNet18_Weights.IMAGENET1K_V1)  # Pretrained resnet18 불러오기\n",
    "\n",
    "# Freeze All Layers\n",
    "for p in model.parameters():\n",
    "    p.requires_grad = False\n",
    "\n",
    "num_features = model.fc.in_features  # Convolutional Layer로 얻어지는 feature 가져오기\n",
    "model.fc = nn.Linear(num_features, 120)  # 120개의 클래스를 구분할 수 있도록 마지막 fully connected layer 수정하기\n",
    "\n",
    "model.to(device)\n",
    "\n",
    "'''\n",
    "device = torch.device(\"cuda:0\" if torch.cuda.is_available() else \"cpu\")\n",
    "\n",
    "class Model(nn.Module):\n",
    "    def __init__(self):\n",
    "        super().__init__()\n",
    "        self.conv1 = nn.Conv2d(3, 6, 5)\n",
    "        self.pool = nn.MaxPool2d(2, 2)\n",
    "        self.conv2 = nn.Conv2d(6, 16, 5)\n",
    "        self.fc1 = nn.Linear(self.fc_input_size(), 120)\n",
    "        self.fc2 = nn.Linear(120, 84)\n",
    "        self.fc3 = nn.Linear(84, 120)\n",
    "        \n",
    "    def forward(self, x):\n",
    "        x = self.pool(F.relu(self.conv1(x)))\n",
    "        x = self.pool(F.relu(self.conv2(x)))\n",
    "        x = torch.flatten(x, 1)  # flatten all dimensions except batch\n",
    "        x = F.relu(self.fc1(x))\n",
    "        x = F.relu(self.fc2(x))\n",
    "        x = self.fc3(x)\n",
    "        return x\n",
    "    \n",
    "    @staticmethod\n",
    "    def fc_input_size():\n",
    "        return int(16*((((RESIZE-4)/2)-4)/2)**2)\n",
    "    \n",
    "model = Model().to(device)\n",
    "'''"
   ]
  },
  {
   "cell_type": "markdown",
   "id": "7c0e53c0-147e-4bb5-a646-c37a6fc7deaa",
   "metadata": {},
   "source": [
    "## 3.4. loss function, optimizer 정의"
   ]
  },
  {
   "cell_type": "code",
   "execution_count": 7,
   "id": "d798380b-65a2-4be6-a59f-dba68115e506",
   "metadata": {},
   "outputs": [],
   "source": [
    "from torch import optim\n",
    "\n",
    "learning_rate = 0.0001\n",
    "\n",
    "criterion = nn.CrossEntropyLoss()\n",
    "optimizer = optim.Adam(model.parameters(), lr=learning_rate)"
   ]
  },
  {
   "cell_type": "markdown",
   "id": "5a890bb2-71c3-45c6-844f-ded7f53f5e78",
   "metadata": {},
   "source": [
    "## 3.5. 테스트 함수 작성"
   ]
  },
  {
   "cell_type": "code",
   "execution_count": 8,
   "id": "0759c891-91c8-4c16-be00-8b1687e3a381",
   "metadata": {},
   "outputs": [],
   "source": [
    "# test_dataloader를 정의\n",
    "test_dataset = torchvision.datasets.ImageFolder(\n",
    "    root=\"./test_dataset\",\n",
    "    transform=transformer)\n",
    "test_dataloader = torch.utils.data.DataLoader(\n",
    "    test_dataset,\n",
    "    batch_size=BATCH_SIZE,\n",
    "    shuffle=True,\n",
    "    num_workers=NUM_WORKERS)\n",
    "\n",
    "# 테스트 함수\n",
    "def test(engine, mini_batch):\n",
    "    engine.model.eval()  # model을 evaluation 하기 위한 상태로 바꾼다.\n",
    "    \n",
    "    inputs, labels = mini_batch\n",
    "    inputs, labels = inputs.to(engine.device), labels.to(engine.device)\n",
    "\n",
    "    outputs = engine.model(inputs)\n",
    "    outputs = F.softmax(outputs, dim=0)  # 확률 값으로 변경\n",
    "\n",
    "    loss = engine.criterion(outputs, labels)\n",
    "    _, predicted = torch.max(outputs.data, 1)\n",
    "\n",
    "    total = labels.size(0)\n",
    "    correct = (predicted == labels).sum().item()\n",
    "\n",
    "    test_loss = loss.item()\n",
    "    accuracy = correct / total\n",
    "    \n",
    "    return {\n",
    "        'loss': float(test_loss),  # 강의에서 배운 gradient graph를 끊는 과정\n",
    "        'accuracy': float(accuracy)\n",
    "    }"
   ]
  },
  {
   "cell_type": "markdown",
   "id": "0f5f29d4-d39e-45fb-8cea-8d1e26b77c4d",
   "metadata": {},
   "source": [
    "## <span style=\"color:blue\">3.5. 학습 함수 작성</span>"
   ]
  },
  {
   "cell_type": "code",
   "execution_count": 9,
   "id": "6abcd415-7760-439a-9f47-20796574e99f",
   "metadata": {},
   "outputs": [],
   "source": [
    "def train(engine, mini_batch):\n",
    "    engine.model.train()  # 모델을 학습하기 위한 상태로 변경\n",
    "    \n",
    "    engine.optimizer.zero_grad()\n",
    "\n",
    "    inputs, labels = mini_batch\n",
    "    inputs, labels = inputs.to(engine.device), labels.to(engine.device)\n",
    "\n",
    "    outputs = engine.model(inputs)\n",
    "    outputs = F.softmax(outputs, dim=0)  # 확률 값으로 변경\n",
    "    loss = engine.criterion(outputs, labels)\n",
    "    loss.backward()\n",
    "    engine.optimizer.step()\n",
    "\n",
    "    _, predicted = torch.max(outputs.data, 1)\n",
    "    total = labels.size(0)\n",
    "    correct = (predicted == labels).sum().item()\n",
    "\n",
    "    train_loss = loss.item()\n",
    "    accuracy = correct / total\n",
    "    \n",
    "    return {\n",
    "        'loss': float(train_loss),\n",
    "        'accuracy': float(accuracy)\n",
    "    }"
   ]
  },
  {
   "cell_type": "markdown",
   "id": "f5496584-3102-49f8-b975-1273e2cc28df",
   "metadata": {},
   "source": [
    "## <span style=\"color:blue\">*. 학습, 테스트 엔진 작성</span>"
   ]
  },
  {
   "cell_type": "code",
   "execution_count": 10,
   "id": "e5fca30c-ade8-420e-9d35-bbe23ea51010",
   "metadata": {},
   "outputs": [],
   "source": [
    "train_engine = MyEngine(\n",
    "    train,\n",
    "    model,\n",
    "    criterion,\n",
    "    optimizer,\n",
    "    BATCH_SIZE,\n",
    "    NUM_WORKERS\n",
    "    )\n",
    "\n",
    "test_engine = MyEngine(\n",
    "    test,\n",
    "    model,\n",
    "    criterion,\n",
    "    optimizer,\n",
    "    BATCH_SIZE,\n",
    "    NUM_WORKERS\n",
    "    )"
   ]
  },
  {
   "cell_type": "markdown",
   "id": "31158104-de84-4de7-afbf-6e81246393a7",
   "metadata": {},
   "source": [
    "## <span style=\"color:blue\">*. 이벤트 작성</span>"
   ]
  },
  {
   "cell_type": "code",
   "execution_count": 11,
   "id": "fee42dc3-3cda-453f-bc94-ee8176bd5499",
   "metadata": {},
   "outputs": [
    {
     "data": {
      "text/plain": [
       "<ignite.engine.events.RemovableEventHandle at 0x2556b5595b0>"
      ]
     },
     "execution_count": 11,
     "metadata": {},
     "output_type": "execute_result"
    }
   ],
   "source": [
    "# Train\n",
    "RunningAverage(output_transform=lambda x: x['loss']).attach(\n",
    "    train_engine,\n",
    "    \"loss\"\n",
    ")\n",
    "RunningAverage(output_transform=lambda x: x['accuracy']).attach(\n",
    "    train_engine,\n",
    "    \"accuracy\"\n",
    ")\n",
    "\n",
    "# Test\n",
    "RunningAverage(output_transform=lambda x: x['loss']).attach(\n",
    "    test_engine,\n",
    "    \"loss\"\n",
    ")\n",
    "RunningAverage(output_transform=lambda x: x['accuracy']).attach(\n",
    "    test_engine,\n",
    "    \"accuracy\"\n",
    ")\n",
    "\n",
    "@test_engine.on(Events.EPOCH_COMPLETED)\n",
    "def print_test_logs(engine):\n",
    "    print(\"Test Loss: {:.4e}\\nAccuracy: {:.4f}\".format(\n",
    "        engine.state.metrics['loss'],\n",
    "        engine.state.metrics['accuracy']))\n",
    "\n",
    "# Or the other way is\n",
    "'''\n",
    "def print_test_logs(engine):\n",
    "    print(\"Test Loss: {:.4e}\\nAccuracy: {:.4f}\".format(\n",
    "        engine.state.metrics['loss'],\n",
    "        engine.state.metrics['accuracy']))\n",
    "\n",
    "test_engine.add_event_handler(\n",
    "    Events.EPOCH_COMPLETED,\n",
    "    print_test_logs,\n",
    "    test_engine)\n",
    "'''\n",
    "\n",
    "# Progress Bar\n",
    "train_pbar = ProgressBar(bar_format = None, ncols = 120)\n",
    "train_pbar.attach(train_engine, ['loss', 'accuracy'])\n",
    "test_pbar = ProgressBar(bar_format = None, ncols = 120)\n",
    "test_pbar.attach(test_engine, ['loss', 'accuracy'])\n",
    "\n",
    "# engine pipeline\n",
    "train_engine.add_event_handler(\n",
    "    Events.EPOCH_COMPLETED,\n",
    "    test_engine.run,\n",
    "    test_dataloader, max_epochs = 1)"
   ]
  },
  {
   "cell_type": "markdown",
   "id": "ff6fc2b7-c366-452f-b41d-b925aa0b5070",
   "metadata": {},
   "source": [
    "## <span style=\"color:blue\">*. 학습</span>"
   ]
  },
  {
   "cell_type": "code",
   "execution_count": 12,
   "id": "dcef9eef-9f87-48a8-9764-9499fe502275",
   "metadata": {},
   "outputs": [
    {
     "name": "stderr",
     "output_type": "stream",
     "text": [
      "                                                                                                                        \r"
     ]
    },
    {
     "name": "stdout",
     "output_type": "stream",
     "text": [
      "Test Loss: 4.7657e+00\n",
      "Accuracy: 0.2506\n"
     ]
    },
    {
     "name": "stderr",
     "output_type": "stream",
     "text": [
      "                                                                                                                        \r"
     ]
    },
    {
     "name": "stdout",
     "output_type": "stream",
     "text": [
      "Test Loss: 4.6979e+00\n",
      "Accuracy: 0.4549\n"
     ]
    },
    {
     "name": "stderr",
     "output_type": "stream",
     "text": [
      "                                                                                                                        "
     ]
    },
    {
     "name": "stdout",
     "output_type": "stream",
     "text": [
      "Test Loss: 4.5948e+00\n",
      "Accuracy: 0.6165\n"
     ]
    },
    {
     "name": "stderr",
     "output_type": "stream",
     "text": [
      "\r"
     ]
    },
    {
     "data": {
      "text/plain": [
       "State:\n",
       "\titeration: 384\n",
       "\tepoch: 3\n",
       "\tepoch_length: 128\n",
       "\tmax_epochs: 3\n",
       "\toutput: <class 'dict'>\n",
       "\tbatch: <class 'list'>\n",
       "\tmetrics: <class 'dict'>\n",
       "\tdataloader: <class 'torch.utils.data.dataloader.DataLoader'>\n",
       "\tseed: <class 'NoneType'>\n",
       "\ttimes: <class 'dict'>"
      ]
     },
     "execution_count": 12,
     "metadata": {},
     "output_type": "execute_result"
    }
   ],
   "source": [
    "EPOCHS = 3\n",
    "\n",
    "train_engine.run(\n",
    "    train_dataloader,\n",
    "    max_epochs = EPOCHS)"
   ]
  },
  {
   "cell_type": "markdown",
   "id": "1913dc38-eac7-4c5b-9470-d6e1744102f4",
   "metadata": {
    "tags": []
   },
   "source": [
    "# 4. 제출\n",
    "\n",
    "submission 파일을 만들어 kaggle에 올려본다."
   ]
  },
  {
   "cell_type": "markdown",
   "id": "bcd78c82-6b8d-4dd8-9b2a-acef78763e38",
   "metadata": {},
   "source": [
    "## 4.1. 만들어진 모델로 Prediction DataFrame 만들기"
   ]
  },
  {
   "cell_type": "code",
   "execution_count": 50,
   "id": "d3c70c74-6cd6-47b9-add4-da714ad1b845",
   "metadata": {},
   "outputs": [],
   "source": [
    "from PIL import Image\n",
    "\n",
    "dict_lst = []\n",
    "\n",
    "test_path = \"./test/\"\n",
    "for file_name in os.listdir(test_path):\n",
    "    img = Image.open(test_path + file_name)\n",
    "    img = transformer(img).unsqueeze(0)\n",
    "    pred = F.softmax(model(img)[0], dim=0).tolist()\n",
    "    id_lst = [file_name.split('.')[0]]\n",
    "    \n",
    "    dict_lst.append(id_lst + pred)\n",
    "    \n",
    "pred_df = pd.DataFrame(dict_lst, columns =['id']+train_dataset.classes)"
   ]
  },
  {
   "cell_type": "markdown",
   "id": "13ddca48-0e92-4bec-a698-428441ef6194",
   "metadata": {},
   "source": [
    "## 4.2. 제출할 파일 csv로 저장하기"
   ]
  },
  {
   "cell_type": "code",
   "execution_count": 53,
   "id": "b712b2f2-be3f-4263-8eaf-61b6dab45029",
   "metadata": {},
   "outputs": [],
   "source": [
    "pred_df.to_csv(\"./submission.csv\", index=False)  # index는 없이 csv파일을 만들기 위해"
   ]
  }
 ],
 "metadata": {
  "kernelspec": {
   "display_name": "Python 3 (ipykernel)",
   "language": "python",
   "name": "python3"
  },
  "language_info": {
   "codemirror_mode": {
    "name": "ipython",
    "version": 3
   },
   "file_extension": ".py",
   "mimetype": "text/x-python",
   "name": "python",
   "nbconvert_exporter": "python",
   "pygments_lexer": "ipython3",
   "version": "3.9.15"
  }
 },
 "nbformat": 4,
 "nbformat_minor": 5
}
