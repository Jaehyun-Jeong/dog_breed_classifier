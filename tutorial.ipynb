{
 "cells": [
  {
   "cell_type": "markdown",
   "id": "b3f1f1b0-0fe8-426e-8f15-81d93e4d64f2",
   "metadata": {
    "tags": []
   },
   "source": [
    "# 1. 클래스 별 폴더 만들기\n",
    "\n",
    "모든 클래스가 하나의 폴더에 들어있고, **labels.csv**에 각 파일의 클래스 정보가 있다. 따라서 이를 이용하여 클래스 별 폴더로 나누겠다. "
   ]
  },
  {
   "cell_type": "markdown",
   "id": "5cb81276-876f-4689-92ca-a12d4e454fce",
   "metadata": {},
   "source": [
    "## 1.1. pandas를 사용하여 csv파일 읽기"
   ]
  },
  {
   "cell_type": "code",
   "execution_count": 1,
   "id": "76cef5b7-16bd-429d-87cb-0b7d6b32baf3",
   "metadata": {},
   "outputs": [],
   "source": [
    "import pandas as pd\n",
    "labels = pd.read_csv(\"./labels.csv\")"
   ]
  },
  {
   "cell_type": "markdown",
   "id": "863a5a35-8004-4529-a3c3-c4e125e8e3a7",
   "metadata": {},
   "source": [
    "## 1.2. 각 클래스 별 폴더 만들기\n",
    "\n",
    "dataset 폴더를 만들고, 하위 폴더에 각 클래스를 저장하겠다."
   ]
  },
  {
   "cell_type": "code",
   "execution_count": 2,
   "id": "ef190372-857c-4b7d-a1a9-352b1f72a5c5",
   "metadata": {},
   "outputs": [],
   "source": [
    "import os\n",
    "\n",
    "os.makedirs(\"./dataset\", exist_ok=True)\n",
    "\n",
    "for class_name in labels['breed'].unique():\n",
    "    os.makedirs(\"./dataset/\"+class_name, exist_ok=True)  # exist_ok가 True이면 디렉토리가 이미 있는 경우는 넘어가고, 없으면 만든다."
   ]
  },
  {
   "cell_type": "markdown",
   "id": "6083ed03-20af-4716-af1a-749aac79613d",
   "metadata": {},
   "source": [
    "## 1.3. 모든 이미지 파일은 jpg 임을 확인"
   ]
  },
  {
   "cell_type": "code",
   "execution_count": 3,
   "id": "4099a57f-de97-4696-b321-d776c3d703c1",
   "metadata": {},
   "outputs": [],
   "source": [
    "for file_name in os.listdir(\"./train\"):\n",
    "    if file_name.split('.')[-1] != 'jpg':\n",
    "        print(file_name)"
   ]
  },
  {
   "cell_type": "markdown",
   "id": "35960eca-1373-4237-963e-d74b0c184e72",
   "metadata": {},
   "source": [
    "## 1.4. labels.csv에 기반하여 파일을 폴더 별로 분류"
   ]
  },
  {
   "cell_type": "code",
   "execution_count": 4,
   "id": "bcf4f23d-333a-4215-9e50-722caebebb95",
   "metadata": {},
   "outputs": [],
   "source": [
    "import shutil\n",
    "\n",
    "for idx, row in labels.iterrows():\n",
    "    file_name = row['id']\n",
    "    class_name = row['breed']\n",
    "    shutil.copy(\"./train/\"+file_name+\".jpg\", \"./dataset/\"+class_name+'/'+file_name+\".jpg\")"
   ]
  },
  {
   "cell_type": "markdown",
   "id": "be735096-d0ef-42d8-9382-3d22cd5511c9",
   "metadata": {},
   "source": [
    "## 1.5. 데이터 크리에이터 캠프에서 만든 draw_class_barplot 함수로 클래스 별 데이터 수 확인"
   ]
  },
  {
   "cell_type": "code",
   "execution_count": 5,
   "id": "6ca53b6a-54ac-4cef-9e87-6d5515a52f1b",
   "metadata": {},
   "outputs": [
    {
     "name": "stdout",
     "output_type": "stream",
     "text": [
      "전체 데이터 수: 10222\n"
     ]
    },
    {
     "data": {
      "text/plain": [
       "<Figure size 10000x10000 with 0 Axes>"
      ]
     },
     "metadata": {},
     "output_type": "display_data"
    },
    {
     "data": {
      "image/png": "[encoded data removed]",
      "text/plain": [
       "<Figure size 640x480 with 1 Axes>"
      ]
     },
     "metadata": {},
     "output_type": "display_data"
    }
   ],
   "source": [
    "import matplotlib.pyplot as plt\n",
    "\n",
    "def draw_class_barplot(\n",
    "    path: str,\n",
    "    title: str):\n",
    "    \n",
    "    dir_list = os.listdir(path)\n",
    "\n",
    "    classLenLst = []\n",
    "    for class_name in dir_list:\n",
    "        classLenLst.append(len(os.listdir(path+class_name)))\n",
    "        \n",
    "    df_dict = dict()\n",
    "    df_dict[\"name\"] = dir_list\n",
    "    df_dict[\"count\"] = classLenLst\n",
    "\n",
    "    df= pd.DataFrame(df_dict)\n",
    "\n",
    "    plt.figure(figsize=(100,100))\n",
    "    df.plot(kind=\"bar\", x='name', y='count')\n",
    "    plt.xlabel(\"class name\")\n",
    "    plt.ylabel(\"count\")\n",
    "    plt.title(title)\n",
    "    ax = plt.gca()\n",
    "\n",
    "    #hide x-axis\n",
    "    ax.get_xaxis().set_visible(False)\n",
    "\n",
    "    return df\n",
    "\n",
    "df = draw_class_barplot(\"./dataset/\", \"dataset\")\n",
    "print(f\"전체 데이터 수: {df['count'].sum(0)}\")"
   ]
  },
  {
   "cell_type": "markdown",
   "id": "e4933eb5-d155-4362-97b0-c758b31c5df3",
   "metadata": {},
   "source": [
    "# 2. train, test 데이터 나누기"
   ]
  },
  {
   "cell_type": "markdown",
   "id": "42477b97-fe4c-4ac1-9484-4afacec3432c",
   "metadata": {},
   "source": [
    "## 2.1. train_dataset, test_dataset 폴더 만들기"
   ]
  },
  {
   "cell_type": "code",
   "execution_count": 6,
   "id": "ebf2f06c-c0c1-4db0-87b6-c3ba0e89707b",
   "metadata": {},
   "outputs": [],
   "source": [
    "os.makedirs(\"./train_dataset\", exist_ok=True)\n",
    "os.makedirs(\"./test_dataset\", exist_ok=True)\n",
    "\n",
    "for class_name in labels['breed'].unique():\n",
    "    os.makedirs(\"./train_dataset/\"+class_name, exist_ok=True)  # exist_ok가 True이면 디렉토리가 이미 있는 경우는 넘어가고, 없으면 만든다.\n",
    "    os.makedirs(\"./test_dataset/\"+class_name, exist_ok=True)"
   ]
  },
  {
   "cell_type": "markdown",
   "id": "cef5bc72-f72d-480d-b70c-609d51e631d0",
   "metadata": {},
   "source": [
    "## 2.2. 데이터의 80%를 학습 20%를 test로 사용\n",
    "\n",
    "각 클래스 별로 20%의 데이터를 test 데이터로 사용"
   ]
  },
  {
   "cell_type": "code",
   "execution_count": 7,
   "id": "eba4d3b0-700a-4f00-b65e-0abd4d5a91cf",
   "metadata": {},
   "outputs": [],
   "source": [
    "TRAIN_PCT = 0.8"
   ]
  },
  {
   "cell_type": "code",
   "execution_count": 8,
   "id": "9bb5ca58-0a15-4a4e-ac00-23c0cd7f1716",
   "metadata": {
    "tags": []
   },
   "outputs": [],
   "source": [
    "class_lst = os.listdir(\"./dataset\")\n",
    "\n",
    "for label_name in class_lst:\n",
    "    file_lst = os.listdir(\"./dataset/\"+label_name)\n",
    "    for file_name in file_lst[:round(len(file_lst)*TRAIN_PCT)]:\n",
    "        shutil.copy(\"./dataset/\"+label_name+'/'+file_name, \"./train_dataset/\"+label_name+'/'+file_name)\n",
    "        \n",
    "    for file_name in file_lst[round(len(file_lst)*TRAIN_PCT):]:\n",
    "        shutil.copy(\"./dataset/\"+label_name+'/'+file_name, \"./test_dataset/\"+label_name+'/'+file_name)"
   ]
  },
  {
   "cell_type": "markdown",
   "id": "0a7106a5-4350-49bf-ac8c-21040b3b2a05",
   "metadata": {},
   "source": [
    "## 2.3. 나눠진 데이터를 확인"
   ]
  },
  {
   "cell_type": "code",
   "execution_count": 9,
   "id": "5bc46e9f-fdb6-4aa3-a1fb-1e2d550043a6",
   "metadata": {},
   "outputs": [
    {
     "name": "stdout",
     "output_type": "stream",
     "text": [
      "전체 train 데이터 수: 8185\n",
      "전체 test 데이터 수: 2037\n"
     ]
    },
    {
     "data": {
      "text/plain": [
       "<Figure size 10000x10000 with 0 Axes>"
      ]
     },
     "metadata": {},
     "output_type": "display_data"
    },
    {
     "data": {
      "image/png": "[encoded data removed]",
      "text/plain": [
       "<Figure size 640x480 with 1 Axes>"
      ]
     },
     "metadata": {},
     "output_type": "display_data"
    },
    {
     "data": {
      "text/plain": [
       "<Figure size 10000x10000 with 0 Axes>"
      ]
     },
     "metadata": {},
     "output_type": "display_data"
    },
    {
     "data": {
      "image/png": "[encoded data removed]",
      "text/plain": [
       "<Figure size 640x480 with 1 Axes>"
      ]
     },
     "metadata": {},
     "output_type": "display_data"
    }
   ],
   "source": [
    "df = draw_class_barplot(\"./train_dataset/\", \"train\")\n",
    "print(f\"전체 train 데이터 수: {df['count'].sum(0)}\")\n",
    "df = draw_class_barplot(\"./test_dataset/\", \"test\")\n",
    "print(f\"전체 test 데이터 수: {df['count'].sum(0)}\")"
   ]
  },
  {
   "cell_type": "markdown",
   "id": "01e8dc87-21d9-4ed5-bff8-b44977ae5d98",
   "metadata": {
    "tags": []
   },
   "source": [
    "# 3. PyTorch 학습 코드 작성"
   ]
  },
  {
   "cell_type": "markdown",
   "id": "7eecec36-3c3d-4b13-ac1e-70ac6dde1751",
   "metadata": {},
   "source": [
    "## 3.1. 이미지 전처리 리스트 작성\n",
    "\n",
    "torchvision의 transoform을 사용하여 전처리 리스트를 작성한다."
   ]
  },
  {
   "cell_type": "code",
   "execution_count": 10,
   "id": "fb3157f8-93c9-4633-9175-c87e218c1938",
   "metadata": {},
   "outputs": [],
   "source": [
    "import torchvision.transforms as transforms\n",
    "\n",
    "transformer = transforms.Compose([\n",
    "    transforms.Resize(224),\n",
    "    transforms.CenterCrop(224),\n",
    "    transforms.ToTensor(),  # ToTensor는 0 ~ 255로 이루어진 정수를 0 ~ 1의 실수로 바꿔준다.\n",
    "    transforms.Normalize(mean=(0.485, 0.456, 0.406), std=(0.229, 0.224, 0.225))\n",
    "])"
   ]
  },
  {
   "cell_type": "markdown",
   "id": "e582777d-f951-4543-874e-f6f937db438e",
   "metadata": {},
   "source": [
    "## 3.2. ImageFolder 메소드를 사용하여 dataloader 생성"
   ]
  },
  {
   "cell_type": "code",
   "execution_count": 11,
   "id": "205306bf-6d96-4b86-8ed5-13c3219f53a7",
   "metadata": {},
   "outputs": [],
   "source": [
    "# 파라미터 설정\n",
    "BATCH_SIZE = 64\n",
    "NUM_WORKERS = 0  # 이 값은 사용하는 쓰레드를 의미하므로 적절히 설정하자 (0는 main thread 사용을 의미한다)"
   ]
  },
  {
   "cell_type": "code",
   "execution_count": 12,
   "id": "c888b48e-4aaf-4e29-b56c-3d1e7fd91ac6",
   "metadata": {},
   "outputs": [],
   "source": [
    "import torch\n",
    "import torchvision\n",
    "\n",
    "train_dataset = torchvision.datasets.ImageFolder(\n",
    "    root=\"./train_dataset\",\n",
    "    transform=transformer)\n",
    "train_dataloader = torch.utils.data.DataLoader(\n",
    "    train_dataset,\n",
    "    batch_size=BATCH_SIZE,\n",
    "    shuffle=True,\n",
    "    num_workers=NUM_WORKERS)"
   ]
  },
  {
   "cell_type": "markdown",
   "id": "a7473b8a-a96a-4154-ad08-1edcd8f89e14",
   "metadata": {},
   "source": [
    "## 3.3. 모델 만들기"
   ]
  },
  {
   "cell_type": "code",
   "execution_count": 13,
   "id": "b15bfddd-119c-46c0-a02f-806d75318e0c",
   "metadata": {},
   "outputs": [
    {
     "name": "stderr",
     "output_type": "stream",
     "text": [
      "Downloading: \"https://download.pytorch.org/models/resnet50-11ad3fa6.pth\" to C:\\Users\\Jaehyun/.cache\\torch\\hub\\checkpoints\\resnet50-11ad3fa6.pth\n"
     ]
    },
    {
     "data": {
      "application/vnd.jupyter.widget-view+json": {
       "model_id": "5f43350db67f4bf8912fd14efc720633",
       "version_major": 2,
       "version_minor": 0
      },
      "text/plain": [
       "  0%|          | 0.00/97.8M [00:00<?, ?B/s]"
      ]
     },
     "metadata": {},
     "output_type": "display_data"
    },
    {
     "data": {
      "text/plain": [
       "'\\nclass Model(nn.Module):\\n    def __init__(self):\\n        super().__init__()\\n        self.conv1 = nn.Conv2d(3, 6, 5)\\n        self.pool = nn.MaxPool2d(2, 2)\\n        self.conv2 = nn.Conv2d(6, 16, 5)\\n        self.fc1 = nn.Linear(16 * 5 * 5, 120)\\n        self.fc2 = nn.Linear(120, 84)\\n        self.fc3 = nn.Linear(84, 120)\\n\\n    def forward(self, x):\\n        x = self.pool(F.relu(self.conv1(x)))\\n        x = self.pool(F.relu(self.conv2(x)))\\n        x = torch.flatten(x, 1)  # flatten all dimensions except batch\\n        x = F.relu(self.fc1(x))\\n        x = F.relu(self.fc2(x))\\n        x = self.fc3(x)\\n        return x\\n    \\nmodel = Model()\\n'"
      ]
     },
     "execution_count": 13,
     "metadata": {},
     "output_type": "execute_result"
    }
   ],
   "source": [
    "# Pretrained model 불러오기\n",
    "from torchvision.models import resnet50, ResNet50_Weights\n",
    "import torch.nn as nn\n",
    "import torch.nn.functional as F\n",
    "\n",
    "model = resnet50(weights=ResNet50_Weights.IMAGENET1K_V2)  # Pretrained resnet18 불러오기\n",
    "\n",
    "# Freeze All Layers\n",
    "for p in model.parameters():\n",
    "    p.requires_grad = False\n",
    "\n",
    "num_features = model.fc.in_features  # Convolutional Layer로 얻어지는 feature 가져오기\n",
    "model.fc = nn.Linear(num_features, 120)  # 120개의 클래스를 구분할 수 있도록 마지막 fully connected layer 수정하기\n",
    "\n",
    "'''\n",
    "class Model(nn.Module):\n",
    "    def __init__(self):\n",
    "        super().__init__()\n",
    "        self.conv1 = nn.Conv2d(3, 6, 5)\n",
    "        self.pool = nn.MaxPool2d(2, 2)\n",
    "        self.conv2 = nn.Conv2d(6, 16, 5)\n",
    "        self.fc1 = nn.Linear(16 * 5 * 5, 120)\n",
    "        self.fc2 = nn.Linear(120, 84)\n",
    "        self.fc3 = nn.Linear(84, 120)\n",
    "\n",
    "    def forward(self, x):\n",
    "        x = self.pool(F.relu(self.conv1(x)))\n",
    "        x = self.pool(F.relu(self.conv2(x)))\n",
    "        x = torch.flatten(x, 1)  # flatten all dimensions except batch\n",
    "        x = F.relu(self.fc1(x))\n",
    "        x = F.relu(self.fc2(x))\n",
    "        x = self.fc3(x)\n",
    "        return x\n",
    "    \n",
    "model = Model()\n",
    "'''"
   ]
  },
  {
   "cell_type": "markdown",
   "id": "7c0e53c0-147e-4bb5-a646-c37a6fc7deaa",
   "metadata": {},
   "source": [
    "## 3.4. loss function, optimizer 정의"
   ]
  },
  {
   "cell_type": "code",
   "execution_count": 14,
   "id": "d798380b-65a2-4be6-a59f-dba68115e506",
   "metadata": {},
   "outputs": [],
   "source": [
    "from torch import optim\n",
    "\n",
    "learning_rate = 0.0001\n",
    "\n",
    "criterion = nn.CrossEntropyLoss()\n",
    "optimizer = optim.Adam(model.parameters(), lr=learning_rate)"
   ]
  },
  {
   "cell_type": "markdown",
   "id": "5a890bb2-71c3-45c6-844f-ded7f53f5e78",
   "metadata": {},
   "source": [
    "## 3.5. 테스트 함수 작성"
   ]
  },
  {
   "cell_type": "code",
   "execution_count": 15,
   "id": "0759c891-91c8-4c16-be00-8b1687e3a381",
   "metadata": {},
   "outputs": [],
   "source": [
    "# test_dataloader를 정의\n",
    "test_dataset = torchvision.datasets.ImageFolder(\n",
    "    root=\"./test_dataset\",\n",
    "    transform=transformer)\n",
    "test_dataloader = torch.utils.data.DataLoader(\n",
    "    test_dataset,\n",
    "    batch_size=BATCH_SIZE,\n",
    "    shuffle=True,\n",
    "    num_workers=NUM_WORKERS)\n",
    "\n",
    "# 테스트 함수\n",
    "def test():\n",
    "    model.eval()  # model을 evaluation 하기 위한 상태로 바꾼다.\n",
    "\n",
    "    test_loss = 0\n",
    "    total = 0\n",
    "    correct = 0\n",
    "\n",
    "    for data in test_dataloader:\n",
    "        inputs = data[0]\n",
    "        labels = data[1]\n",
    "\n",
    "        outputs = model(inputs)\n",
    "        outputs = F.softmax(outputs, dim=0)  # 확률 값으로 변경\n",
    "\n",
    "        loss = criterion(outputs, labels)\n",
    "        _, predicted = torch.max(outputs.data, 1)\n",
    "\n",
    "        total += labels.size(0)\n",
    "        correct += (predicted == labels).sum().item()\n",
    "        \n",
    "        test_loss += loss.item()\n",
    "\n",
    "    test_loss = test_loss / len(test_dataloader)\n",
    "\n",
    "    accuracy = 100 * correct // total\n",
    "\n",
    "    print(f\"test loss: {test_loss}\")\n",
    "    print(f\"test accuracy: {accuracy}%\")"
   ]
  },
  {
   "cell_type": "markdown",
   "id": "0f5f29d4-d39e-45fb-8cea-8d1e26b77c4d",
   "metadata": {},
   "source": [
    "## 3.5. 학습"
   ]
  },
  {
   "cell_type": "code",
   "execution_count": 16,
   "id": "6abcd415-7760-439a-9f47-20796574e99f",
   "metadata": {},
   "outputs": [
    {
     "name": "stdout",
     "output_type": "stream",
     "text": [
      "train loss at epoch 1: 4.783060614019632\n",
      "train accuracy: 16%\n",
      "test loss: 4.7778093963861465\n",
      "test accuracy: 39%\n",
      "train loss at epoch 2: 4.768966395407915\n",
      "train accuracy: 58%\n",
      "test loss: 4.760245144367218\n",
      "test accuracy: 62%\n"
     ]
    }
   ],
   "source": [
    "EPOCH = 2\n",
    "model.train()  # 모델을 학습하기 위한 상태로 변경\n",
    "\n",
    "for epoch in range(EPOCH):\n",
    "    train_loss = 0\n",
    "    total = 0\n",
    "    correct = 0\n",
    "    \n",
    "    for i, data in enumerate(train_dataloader):\n",
    "        \n",
    "        inputs = data[0]\n",
    "        labels = data[1]\n",
    "        \n",
    "        optimizer.zero_grad()\n",
    "        outputs = model(inputs)\n",
    "        outputs = F.softmax(outputs, dim=0)  # 확률 값으로 변경\n",
    "        loss = criterion(outputs, labels)\n",
    "        loss.backward()\n",
    "        optimizer.step()\n",
    "        \n",
    "        _, predicted = torch.max(outputs.data, 1)\n",
    "        total += labels.size(0)\n",
    "        correct += (predicted == labels).sum().item()\n",
    "        \n",
    "        train_loss += loss.item()\n",
    "        \n",
    "    train_loss = train_loss / len(train_dataloader)\n",
    "    accuracy = 100 * correct // total\n",
    "    \n",
    "    print(f\"train loss at epoch {epoch+1}: {train_loss}\")\n",
    "    print(f\"train accuracy: {accuracy}%\")\n",
    "    \n",
    "    test()"
   ]
  },
  {
   "cell_type": "markdown",
   "id": "1913dc38-eac7-4c5b-9470-d6e1744102f4",
   "metadata": {
    "tags": []
   },
   "source": [
    "# 4. 제출\n",
    "\n",
    "submission 파일을 만들어 kaggle에 올려본다."
   ]
  },
  {
   "cell_type": "markdown",
   "id": "bcd78c82-6b8d-4dd8-9b2a-acef78763e38",
   "metadata": {},
   "source": [
    "## 4.1. 만들어진 모델로 Prediction DataFrame 만들기"
   ]
  },
  {
   "cell_type": "code",
   "execution_count": 20,
   "id": "1d850b7d-ef78-4392-9552-bf006cfcfe14",
   "metadata": {},
   "outputs": [
    {
     "name": "stdout",
     "output_type": "stream",
     "text": [
      "<class 'torch.Tensor'>\n",
      "torch.Size([3, 449, 600])\n"
     ]
    }
   ],
   "source": [
    "from torchvision.io import read_image\n",
    "\n",
    "test_path = \"./test/\"\n",
    "for file_name in os.listdir(test_path):\n",
    "    img = read_image(test_path + file_name)\n",
    "    print(type(img))\n",
    "    print(img.shape)\n",
    "    break"
   ]
  }
 ],
 "metadata": {
  "kernelspec": {
   "display_name": "Python 3 (ipykernel)",
   "language": "python",
   "name": "python3"
  },
  "language_info": {
   "codemirror_mode": {
    "name": "ipython",
    "version": 3
   },
   "file_extension": ".py",
   "mimetype": "text/x-python",
   "name": "python",
   "nbconvert_exporter": "python",
   "pygments_lexer": "ipython3",
   "version": "3.10.4"
  }
 },
 "nbformat": 4,
 "nbformat_minor": 5
}
